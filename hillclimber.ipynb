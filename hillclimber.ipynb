{
 "cells": [
  {
   "cell_type": "markdown",
   "id": "85c81b99",
   "metadata": {},
   "source": [
    "### Instructions\n",
    "A - above\n",
    "B - below\n",
    "X - delete \n",
    "Ctrl Enter - run\n",
    "Enter - Enter into cell\n",
    "M - make cell into markdown cell"
   ]
  },
  {
   "cell_type": "code",
   "execution_count": 6,
   "id": "03ff0f50",
   "metadata": {},
   "outputs": [],
   "source": [
    "import numpy as np\n",
    "import pandas as pd\n",
    "from matplotlib import pyplot"
   ]
  },
  {
   "cell_type": "code",
   "execution_count": 7,
   "id": "0d7f1717",
   "metadata": {},
   "outputs": [
    {
     "name": "stdout",
     "output_type": "stream",
     "text": [
      "MOD001|Zacharias Karstensen|2|MOD002,MOD003,MOD004,MOD005,MOD006,MOD007,MOD008,MOD009,MOD010,MOD013\n",
      "\n"
     ]
    }
   ],
   "source": [
    "f = open(\"modules.txt\", 'r')\n",
    "print(f.readline())"
   ]
  },
  {
   "cell_type": "markdown",
   "id": "b42f2f35",
   "metadata": {},
   "source": [
    "# THIS IS A HEADING"
   ]
  },
  {
   "cell_type": "code",
   "execution_count": null,
   "id": "259f94c8",
   "metadata": {},
   "outputs": [],
   "source": []
  }
 ],
 "metadata": {
  "kernelspec": {
   "display_name": "Python 3 (ipykernel)",
   "language": "python",
   "name": "python3"
  },
  "language_info": {
   "codemirror_mode": {
    "name": "ipython",
    "version": 3
   },
   "file_extension": ".py",
   "mimetype": "text/x-python",
   "name": "python",
   "nbconvert_exporter": "python",
   "pygments_lexer": "ipython3",
   "version": "3.9.7"
  }
 },
 "nbformat": 4,
 "nbformat_minor": 5
}
