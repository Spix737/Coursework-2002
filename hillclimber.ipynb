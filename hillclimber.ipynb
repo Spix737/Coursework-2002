{
 "cells": [
  {
   "cell_type": "markdown",
   "id": "85c81b99",
   "metadata": {},
   "source": [
    "### Instructions\n",
    "A - above\n",
    "B - below\n",
    "X - delete \n",
    "Ctrl Enter - run\n",
    "Enter - Enter into cell\n",
    "M - make cell into markdown cell"
   ]
  },
  {
   "cell_type": "code",
   "execution_count": 76,
   "id": "03ff0f50",
   "metadata": {},
   "outputs": [],
   "source": [
    "import numpy as np\n",
    "import pandas as pd\n",
    "from matplotlib import pyplot"
   ]
  },
  {
   "cell_type": "code",
   "execution_count": 117,
   "id": "0d7f1717",
   "metadata": {},
   "outputs": [],
   "source": [
    "f = open(\"modules.txt\", 'r')\n",
    "#print(f.read())\n",
    "f.close()"
   ]
  },
  {
   "cell_type": "markdown",
   "id": "b42f2f35",
   "metadata": {},
   "source": [
    "# THIS IS A HEADING. ITS NEAT.\n",
    "# BELOW IT IS SOME CODE."
   ]
  },
  {
   "cell_type": "code",
   "execution_count": 116,
   "id": "62000592",
   "metadata": {},
   "outputs": [],
   "source": [
    "import numpy as np\n",
    "\n",
    "def generate_timetable():\n",
    "    \"\"\"\n",
    "    Generate a timetable Spyx\n",
    "    Read the file to see how many classes + labs there are.\n",
    "    Store them in a 20x3 list alongside empty sessions to fill the list\n",
    "    \"\"\"\n",
    "    #Create \"empty\" timetable\n",
    "    timetable = [[\"empty\" for x in range(3)] for y in range(20)] \n",
    "    \n",
    "    #Read file into allSplits list\n",
    "    allSplits = []\n",
    "    f = open(\"modules.txt\", 'r')\n",
    "    lineCount = 0\n",
    "    for line in f:\n",
    "        allSplits.append(line.split(\"|\"))\n",
    "        lineCount+=1\n",
    "   \n",
    "    #Add module into timetable\n",
    "    for i in range(0,lineCount):\n",
    "        timetable[i][0] = allSplits[i][0]\n",
    "    \n",
    "    \n",
    "    #Add seminars into timetable.\n",
    "    #Iterate through each module, for each number of seminars use\n",
    "    #counters to iterate to next empty position and place seminar.\n",
    "    #Should work on different set of modules if format is kept identical.\n",
    "    emptyChecker = 0\n",
    "    emptyChecker1 = 0\n",
    "    for i in range(0, lineCount):\n",
    "        for j in range(0, int(allSplits[i][2])):\n",
    "            toggle = False\n",
    "            while toggle == False:\n",
    "                if timetable[emptyChecker][emptyChecker1] == \"empty\":\n",
    "                    timetable[emptyChecker][emptyChecker1] = allSplits[i][0]\n",
    "                    toggle = True\n",
    "                emptyChecker1+=1\n",
    "                if emptyChecker1 == 3:\n",
    "                    emptyChecker+=1\n",
    "                    emptyChecker1=0\n",
    "    \n",
    "    #randomises through randomise function below\n",
    "    timetable = randomise_timetable(timetable)\n",
    "    \n",
    "    #for i in range(0, len(timetable)):\n",
    "        #print(timetable[i])\n",
    "    #print(timetableJoined)\n",
    "    \n",
    "    return timetable\n"
   ]
  },
  {
   "cell_type": "code",
   "execution_count": 104,
   "id": "f24c69de",
   "metadata": {},
   "outputs": [],
   "source": [
    "def randomise_timetable(timetable):\n",
    "    #Create randomised timetable\n",
    "    #Add all to single list\n",
    "    #Shuffle list\n",
    "    #Put back into timetable\n",
    "    \n",
    "    timetableJoined = []\n",
    "    for list in timetable:\n",
    "        for i in list:\n",
    "            timetableJoined.append(i)\n",
    "    np.random.shuffle(timetableJoined)\n",
    "    for i in range(0,len(timetable)):\n",
    "        for j in range(0,2):\n",
    "            timetable[i][j] = timetableJoined[i]\n",
    "    \n",
    "    return timetable"
   ]
  },
  {
   "cell_type": "code",
   "execution_count": null,
   "id": "8113a43a",
   "metadata": {},
   "outputs": [],
   "source": [
    "def room_validity(timetable):\n",
    "    #Check to see if timetable is valid ie:\n",
    "    #lectures take place in lecture theatre & labs are in labs\n",
    "    #returns true if valid, else false if not\n",
    "    \n",
    "    "
   ]
  },
  {
   "cell_type": "code",
   "execution_count": 100,
   "id": "f8426ecd",
   "metadata": {},
   "outputs": [
    {
     "name": "stdout",
     "output_type": "stream",
     "text": [
      "MOD002\n"
     ]
    }
   ],
   "source": [
    "def fitness_function():\n",
    "    \"\"\"\n",
    "    Generate a fitness calculator Spyx\n",
    "    allSplits = []\n",
    "    f = open(\"modules.txt\", 'r')\n",
    "    for line in f:\n",
    "        allSplits.append(line.split(\"|\"))\n",
    "    print(allSplits[1][0])\n",
    "    \"\"\"\n",
    "    generate_timetable()\n",
    "    \n",
    "    \n",
    "    \"\"\"\n",
    "    CONSTRAINTS:\n",
    "    1) ONLY 1 LECTURE AND TWO LABS MAY RUN CONCURRENTLY\n",
    "    2) LABS FOR A MODULE MAY ONLY OCCUR AFTER ITS LECTURE! PRECEDENCE!\n",
    "    3) SESSIONS CAN'T INTERFERE! CONCURRENCE!\n",
    "    \"\"\"\n",
    "    \n",
    "fitness_function()\n",
    "    "
   ]
  }
 ],
 "metadata": {
  "kernelspec": {
   "display_name": "Python 3 (ipykernel)",
   "language": "python",
   "name": "python3"
  },
  "language_info": {
   "codemirror_mode": {
    "name": "ipython",
    "version": 3
   },
   "file_extension": ".py",
   "mimetype": "text/x-python",
   "name": "python",
   "nbconvert_exporter": "python",
   "pygments_lexer": "ipython3",
   "version": "3.9.7"
  }
 },
 "nbformat": 4,
 "nbformat_minor": 5
}
