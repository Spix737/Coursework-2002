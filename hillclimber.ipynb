{
 "cells": [
  {
   "cell_type": "markdown",
   "id": "85c81b99",
   "metadata": {},
   "source": [
    "### Instructions\n",
    "A - above\n",
    "B - below\n",
    "X - delete \n",
    "Ctrl Enter - run\n",
    "Enter - Enter into cell\n",
    "M - make cell into markdown cell"
   ]
  },
  {
   "cell_type": "code",
   "execution_count": 145,
   "id": "03ff0f50",
   "metadata": {},
   "outputs": [],
   "source": [
    "import numpy as np\n",
    "import pandas as pd\n",
    "from matplotlib import pyplot\n",
    "import sklearn"
   ]
  },
  {
   "cell_type": "markdown",
   "id": "bd15e506",
   "metadata": {},
   "source": [
    "# TASK 1 - MACHINE LEARNING"
   ]
  },
  {
   "cell_type": "code",
   "execution_count": 146,
   "id": "d9e37e91",
   "metadata": {},
   "outputs": [],
   "source": [
    "import pandas as pd\n",
    "import numpy as np \n",
    "import matplotlib.pyplot as plt\n",
    "from sklearn.decomposition import PCA\n",
    "from sklearn.neural_network import MLPClassifier\n",
    "from sklearn.neural_network import MLPRegressor\n",
    "from sklearn.metrics import mean_squared_error"
   ]
  },
  {
   "cell_type": "code",
   "execution_count": 147,
   "id": "5bd0d008",
   "metadata": {},
   "outputs": [
    {
     "name": "stdout",
     "output_type": "stream",
     "text": [
      "Hi\n"
     ]
    }
   ],
   "source": [
    "\"\"\"\n",
    "# Extract the inputs.\n",
    "inputs = data.values[0:,:8].astype(float)\n",
    "targets = data.values[:,8:].astype(float)\n",
    "#Normalize the inputs and targets with scaler.\n",
    "scaler = MinMaxScaler()\n",
    "scaled_inputs = scaler.fit_transform(inputs)\n",
    "scaled_targets = scaler.fit_transform(targets)\n",
    "\n",
    "print(\"Inputs\")\n",
    "print(scaled_inputs)\n",
    "print(\"Targets\")\n",
    "print(scaled_targets)\n",
    "\"\"\"\n",
    "print(\"Hi\")"
   ]
  },
  {
   "cell_type": "code",
   "execution_count": 148,
   "id": "b5170862",
   "metadata": {},
   "outputs": [
    {
     "name": "stdout",
     "output_type": "stream",
     "text": [
      "Ho\n"
     ]
    }
   ],
   "source": [
    "\"\"\"\n",
    "NN = MLPRegressor(max_iter=5000)\n",
    "NN.fit(scaled_inputs, scaled_targets)\n",
    "outputs = NN.predict(scaled_inputs)\n",
    "print(\"MLP Regressor: \\n\", outputs)\n",
    "\"\"\"\n",
    "print(\"Ho\")"
   ]
  },
  {
   "cell_type": "markdown",
   "id": "b42f2f35",
   "metadata": {},
   "source": [
    "# TASK 2 - OPTIMISATION"
   ]
  },
  {
   "cell_type": "code",
   "execution_count": 149,
   "id": "62000592",
   "metadata": {},
   "outputs": [],
   "source": [
    "def generate_timetable():\n",
    "    \"\"\"\n",
    "    Generates a timetable.\n",
    "    Read the file to see how many classes + labs there are.\n",
    "    Store them in a 20x3 list alongside empty sessions to fill the list\n",
    "    \"\"\"\n",
    "    #Create \"empty\" timetable\n",
    "    timetable = [[\"empty\" for x in range(3)] for y in range(20)] \n",
    "    \n",
    "    #Read file into allSplits list\n",
    "    allSplits = []\n",
    "    f = open(\"modules.txt\", 'r')\n",
    "    lineCount = 0\n",
    "    for line in f:\n",
    "        allSplits.append(line.split(\"|\"))\n",
    "        lineCount+=1\n",
    "    f.close()\n",
    "    \n",
    "    #Add module into timetable\n",
    "    for i in range(0,lineCount):\n",
    "        timetable[i][0] = allSplits[i][0]\n",
    "    \n",
    "    \n",
    "    #Add seminars into timetable.\n",
    "    #Iterate through each module, for each number of seminars use\n",
    "    #counters to iterate to next empty position and place seminar.\n",
    "    #Should work on different set of modules if format is kept identical.\n",
    "    emptyChecker = 0\n",
    "    emptyChecker1 = 0\n",
    "    for i in range(0, lineCount):\n",
    "        for j in range(0, int(allSplits[i][2])):\n",
    "            toggle = False\n",
    "            while toggle == False:\n",
    "                if timetable[emptyChecker][emptyChecker1] == \"empty\":\n",
    "                    timetable[emptyChecker][emptyChecker1] = allSplits[i][0]\n",
    "                    toggle = True\n",
    "                emptyChecker1+=1\n",
    "                if emptyChecker1 == 3:\n",
    "                    emptyChecker+=1\n",
    "                    emptyChecker1=0\n",
    "    \n",
    "    #randomises through randomise function below\n",
    "    #randomSwitch = False\n",
    "    #while randomSwitch == False:\n",
    "    randomise_timetable(timetable)\n",
    "        #randomSwitch = room_validity(timetable)\n",
    "    return timetable"
   ]
  },
  {
   "cell_type": "code",
   "execution_count": 150,
   "id": "27d61b94",
   "metadata": {},
   "outputs": [],
   "source": [
    "def randomise_timetable(timetable):\n",
    "    #Create randomised timetable\n",
    "    #Add lectures to lec. list and labs to lab list\n",
    "    #Shuffle lists\n",
    "    #Put back into timetable\n",
    "    \n",
    "    lecturesJoined = []\n",
    "    labsJoined = []\n",
    "    for i in range(len(timetable)):\n",
    "        for j in range(0,len(timetable[i]), len(timetable[i])):\n",
    "            lecturesJoined.append(timetable[i][j])\n",
    "            labsJoined.append(timetable[i][j+1])\n",
    "            labsJoined.append(timetable[i][j+2])\n",
    "    np.random.shuffle(lecturesJoined)\n",
    "    np.random.shuffle(labsJoined)\n",
    "    counterLecs = 0\n",
    "    counterLabs = 0\n",
    "    for i in range(0,len(timetable)):\n",
    "        for j in range(0,len(timetable[i]), len(timetable[i])):\n",
    "            timetable[i][j] = lecturesJoined[counterLecs]\n",
    "            timetable[i][j+1] = labsJoined[counterLabs]\n",
    "            timetable[i][j+2] = labsJoined[counterLabs+1]\n",
    "            counterLecs+=1\n",
    "            counterLabs+=2\n",
    "\n",
    "    return timetable"
   ]
  },
  {
   "cell_type": "code",
   "execution_count": 173,
   "id": "08b28264",
   "metadata": {},
   "outputs": [],
   "source": [
    "def fitness_function(timetable):\n",
    "    #Calculates fitness of given timetable\n",
    "    \n",
    "    allSplits = []\n",
    "    f = open(\"modules.txt\", 'r')\n",
    "    lineCount = 0\n",
    "    for line in f:\n",
    "        allSplits.append(line.split(\"|\"))\n",
    "        lineCount+=1\n",
    "    f.close()\n",
    "    \n",
    "    modSplits = []\n",
    "    modConstraintSplits = []\n",
    "    for line in allSplits:\n",
    "        modSplits.append(line[0])\n",
    "        modConstraintSplits.append(line[3])\n",
    "    \"\"\"\n",
    "    CONSTRAINTS:\n",
    "    1) ONLY 1 LECTURE AND TWO LABS MAY RUN CONCURRENTLY\n",
    "    2) LABS FOR A MODULE MAY ONLY OCCUR AFTER ITS LECTURE! PRECEDENCE!\n",
    "    3) SESSIONS CAN'T INTERFERE! CONCURRENCE!\n",
    "    \"\"\"\n",
    "    #Precedence constraints\n",
    "    precConstraints = 0\n",
    "    #module loop\n",
    "    for i in range(0, len(timetable)):\n",
    "        module = timetable[i][0]\n",
    "        if module == \"empty\":\n",
    "            continue\n",
    "        #all of the timetable lab loop\n",
    "        for j in range(0, len(timetable)):\n",
    "            if j > i:\n",
    "                break\n",
    "            for l in range(1, len(timetable[j])):\n",
    "                if module == timetable[j][l]:\n",
    "                    precConstraints+=1\n",
    "            \n",
    "    \n",
    "    #Concurrency constraints\n",
    "    #Functional and clean, aside from try catch section which only caters to list length 3.\n",
    "    concConstraints = 0\n",
    "    #Cycle through each session\n",
    "    for i in range(0,len(timetable)):\n",
    "        #Cycle through each room\n",
    "        for j in range(0,len(timetable[i])):\n",
    "            if timetable[i][j] == \"empty\":\n",
    "                continue\n",
    "            constraintModules = []\n",
    "            pos1 = modSplits.index(timetable[i][j])\n",
    "            clashes1 = modConstraintSplits[pos1]\n",
    "            #2nd cycle through each room, linear comparison of modules and clashes, starting from one after the one just checked.\n",
    "            #Such that in a list [a, b, c, d] it compares as follows: ab, ac, ad, bc, bd, cd - 3 of each, all are compared\n",
    "            #once to get most accurate concurrency violation value.\n",
    "            for k in range(j,len(timetable[i])):\n",
    "                if k == j or timetable[i][k] == \"empty\":\n",
    "                    continue\n",
    "                else:\n",
    "                    pos2 = modSplits.index(timetable[i][k])\n",
    "                    clashes2 = modConstraintSplits[pos2]\n",
    "                    if timetable[i][j] == timetable[i][k] or timetable[i][j] in clashes2 or timetable[i][k] in clashes1:\n",
    "                        concConstraints+=1\n",
    "\n",
    "    if concConstraints == 0 and precConstraints == 0:\n",
    "        return 0\n",
    "    if concConstraints == 0:\n",
    "        concConstraints = 1\n",
    "    if precConstraints == 0:\n",
    "        precConstraints = 1\n",
    "    return precConstraints * concConstraints"
   ]
  },
  {
   "cell_type": "code",
   "execution_count": 169,
   "id": "e399356d",
   "metadata": {},
   "outputs": [],
   "source": [
    "def mutation_swap(timetable):\n",
    "    #This function swaps two modules at random.\n",
    "    #Must be modified for another timetable as it's specific to\n",
    "    #this problem and its room (1 theatre 2 lab) constraints. \n",
    "    moduleIndex = []\n",
    "    tim = len(timetable)-1\n",
    "    tim2 = len(timetable[0])-1\n",
    "    moduleIndex.append(np.random.randint(0,tim))\n",
    "    moduleIndex.append(np.random.randint(0,tim2)) \n",
    "    whileToggle = False\n",
    "    x = np.random.randint(0,tim)\n",
    "    if moduleIndex[1] == 0:\n",
    "        y = 0\n",
    "    else:\n",
    "        y = np.random.randint(1, tim2) \n",
    "    #While loop ensures randomly selected modules aren't the same module (x and y indexes arent both equal)\n",
    "    #Furthermore, it ensure you may only swap a lecture with a lecture and a lab with a lab.\n",
    "    while whileToggle == False:\n",
    "        if x == moduleIndex[0] and y == moduleIndex[1]:\n",
    "            x = np.random.randint(0,tim)\n",
    "            if moduleIndex[1] == 0:\n",
    "                y = 0\n",
    "            else:\n",
    "                y = np.random.randint(1, tim2) \n",
    "        else:\n",
    "            whileToggle = True\n",
    "    moduleIndex.append(x)\n",
    "    moduleIndex.append(y)\n",
    "    mod1 = timetable[moduleIndex[0]][moduleIndex[1]]\n",
    "    mod2 = timetable[moduleIndex[2]][moduleIndex[3]]\n",
    "    timetable[moduleIndex[0]][moduleIndex[1]] = mod2\n",
    "    timetable[moduleIndex[2]][moduleIndex[3]] = mod1\n",
    "    return timetable "
   ]
  },
  {
   "cell_type": "code",
   "execution_count": 153,
   "id": "f82ef2e0",
   "metadata": {},
   "outputs": [],
   "source": [
    "def mutation_ruin_and_run(timetable):\n",
    "    #randomises given timetable\n",
    "    return randomise_timetable(timetable)"
   ]
  },
  {
   "cell_type": "code",
   "execution_count": 154,
   "id": "6f95b1fd",
   "metadata": {},
   "outputs": [],
   "source": [
    "#Objective Function for current coursework problem.\n",
    "def comparison_lower(a, b):\n",
    "    return b <= a"
   ]
  },
  {
   "cell_type": "code",
   "execution_count": 155,
   "id": "8057a2d4",
   "metadata": {},
   "outputs": [],
   "source": [
    "def hillclimber(itInt, timetable, problem, mutation, comparison):\n",
    "    #itInt = no. of iterations\n",
    "    #problem = fitness calculator\n",
    "    #mutation = function by which to change decision variable\n",
    "    #decision variable is the timetable, generated within the function!\n",
    "    #comparison = objective function for current optimisation goal\n",
    "    \n",
    "    parent = timetable\n",
    "    #for i in range(0,len(parent)):\n",
    "        #print(parent[i])\n",
    "    parentFitness = problem(parent)\n",
    "    \n",
    "    #Loop for itint no. of times\n",
    "    fitnessList = []\n",
    "    for iter in range(itInt):\n",
    "        #if iter % 100 == 0:\n",
    "            #print(f\"Progress: {iter} / {itInt}\")\n",
    "        #Mutate\n",
    "        child = mutation(parent)\n",
    "        \n",
    "        #Evaluate\n",
    "        childFitness = problem(child)\n",
    "        \n",
    "        #Print parent soln\n",
    "        if comparison(parentFitness, childFitness):\n",
    "            parent = child\n",
    "            parentFitness = childFitness\n",
    "        fitnessList.append(parentFitness)\n",
    "    \n",
    "    return parent, fitnessList"
   ]
  },
  {
   "cell_type": "code",
   "execution_count": 158,
   "id": "392279b7",
   "metadata": {},
   "outputs": [],
   "source": [
    "#Optimisation Algorithm Implementation\n",
    "\n",
    "def optimisation():\n",
    "    t = generate_timetable()\n",
    "\n",
    "    swapFits = []\n",
    "    rnrFits = []\n",
    "    \n",
    "    for i in range(30):\n",
    "        if i%5 == 0:\n",
    "            print(f\"Progress: {i}/30\")\n",
    "        #Swap Mutation \n",
    "        x, y = hillclimber(500, t, fitness_function, mutation_swap, comparison_lower)\n",
    "        swapFits.append(y)\n",
    "        \n",
    "        #Ruin-and-Run Mutation\n",
    "        a, b = hillclimber(500, t, fitness_function, mutation_ruin_and_run, comparison_lower)\n",
    "        rnrFits.append(b)\n",
    "        \n",
    "    print(\"Done.\\n\")\n",
    "    \n",
    "    return swapFits, rnrFits"
   ]
  },
  {
   "cell_type": "code",
   "execution_count": 176,
   "id": "c5d69d72",
   "metadata": {},
   "outputs": [
    {
     "name": "stdout",
     "output_type": "stream",
     "text": [
      "Progress: 0/30\n",
      "Progress: 5/30\n",
      "Progress: 10/30\n",
      "Progress: 15/30\n",
      "Progress: 20/30\n",
      "Progress: 25/30\n",
      "Done.\n",
      "\n"
     ]
    },
    {
     "data": {
      "text/plain": [
       "Text(0, 0.5, 'Fitness Score')"
      ]
     },
     "execution_count": 176,
     "metadata": {},
     "output_type": "execute_result"
    },
    {
     "data": {
      "image/png": "[encoded data removed]",
      "text/plain": [
       "<Figure size 432x288 with 1 Axes>"
      ]
     },
     "metadata": {
      "needs_background": "light"
     },
     "output_type": "display_data"
    }
   ],
   "source": [
    "#Task 2.3\n",
    "swapFits, rnrFits = optimisation()\n",
    "\n",
    "#Creates max, mean and min lists.\n",
    "maxListSwap = []\n",
    "meanListSwap = []\n",
    "minListSwap = []\n",
    "maxListRnr = []\n",
    "meanListRnr = []\n",
    "minListRnr = []\n",
    "#Assigns values to lists.\n",
    "for i in range(0, len(swapFits[0])):\n",
    "    valuesSwap = []\n",
    "    valuesRnr = []\n",
    "    for j in range(0, len(swapFits)):\n",
    "            valuesSwap.append(swapFits[j][i])\n",
    "            valuesRnr.append(rnrFits[j][i])\n",
    "    #Processes values from values lists to respective lists for plotting.\n",
    "    maxListSwap.append(max(valuesSwap))\n",
    "    meanListSwap.append(sum(valuesSwap)/len(valuesSwap))\n",
    "    minListSwap.append(min(valuesSwap))\n",
    "    maxListRnr.append(max(valuesRnr))\n",
    "    meanListRnr.append(sum(valuesRnr)/len(valuesRnr))\n",
    "    minListRnr.append(min(valuesRnr))   \n",
    "    \n",
    "#Plots data to graph.\n",
    "pyplot.plot(maxListSwap, label=\"Swap Maximum\")\n",
    "pyplot.plot(meanListSwap, label=\"Swap Average\")\n",
    "pyplot.plot(minListSwap, label=\"Swap Minimum\")\n",
    "\n",
    "pyplot.plot(maxListRnr, label=\"RnR Maximum\")\n",
    "pyplot.plot(meanListRnr, label=\"RnR Average\")\n",
    "pyplot.plot(minListRnr, label=\"RnR Minimum\")\n",
    "\n",
    "pyplot.legend()\n",
    "pyplot.title(\"Graph of Hill-Climber Fitness against Iterations \")\n",
    "pyplot.xlabel(\"Number of Iterations\")\n",
    "pyplot.ylabel(\"Fitness Score\")\n"
   ]
  }
 ],
 "metadata": {
  "kernelspec": {
   "display_name": "Python 3 (ipykernel)",
   "language": "python",
   "name": "python3"
  },
  "language_info": {
   "codemirror_mode": {
    "name": "ipython",
    "version": 3
   },
   "file_extension": ".py",
   "mimetype": "text/x-python",
   "name": "python",
   "nbconvert_exporter": "python",
   "pygments_lexer": "ipython3",
   "version": "3.9.7"
  }
 },
 "nbformat": 4,
 "nbformat_minor": 5
}
