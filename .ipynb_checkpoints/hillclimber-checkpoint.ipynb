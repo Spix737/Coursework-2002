{
 "cells": [
  {
   "cell_type": "markdown",
   "id": "85c81b99",
   "metadata": {},
   "source": [
    "### Instructions\n",
    "A - above\n",
    "B - below\n",
    "X - delete \n",
    "Ctrl Enter - run\n",
    "Enter - Enter into cell\n",
    "M - make cell into markdown cell"
   ]
  },
  {
   "cell_type": "code",
   "execution_count": 142,
   "id": "03ff0f50",
   "metadata": {},
   "outputs": [],
   "source": [
    "import numpy as np\n",
    "import pandas as pd\n",
    "from matplotlib import pyplot"
   ]
  },
  {
   "cell_type": "code",
   "execution_count": 117,
   "id": "0d7f1717",
   "metadata": {},
   "outputs": [],
   "source": [
    "f = open(\"modules.txt\", 'r')\n",
    "#print(f.read())\n",
    "f.close()"
   ]
  },
  {
   "cell_type": "markdown",
   "id": "b42f2f35",
   "metadata": {},
   "source": [
    "# THIS IS A HEADING. ITS NEAT.\n",
    "# BELOW IT IS SOME CODE."
   ]
  },
  {
   "cell_type": "code",
   "execution_count": 143,
   "id": "62000592",
   "metadata": {},
   "outputs": [],
   "source": [
    "def generate_timetable():\n",
    "    \"\"\"\n",
    "    Generate a timetable Spyx\n",
    "    Read the file to see how many classes + labs there are.\n",
    "    Store them in a 20x3 list alongside empty sessions to fill the list\n",
    "    \"\"\"\n",
    "    #Create \"empty\" timetable\n",
    "    timetable = [[\"empty\" for x in range(3)] for y in range(20)] \n",
    "    \n",
    "    #Read file into allSplits list\n",
    "    allSplits = []\n",
    "    f = open(\"modules.txt\", 'r')\n",
    "    lineCount = 0\n",
    "    for line in f:\n",
    "        allSplits.append(line.split(\"|\"))\n",
    "        lineCount+=1\n",
    "    f.close()\n",
    "    \n",
    "    #Add module into timetable\n",
    "    for i in range(0,lineCount):\n",
    "        timetable[i][0] = allSplits[i][0]\n",
    "    \n",
    "    \n",
    "    #Add seminars into timetable.\n",
    "    #Iterate through each module, for each number of seminars use\n",
    "    #counters to iterate to next empty position and place seminar.\n",
    "    #Should work on different set of modules if format is kept identical.\n",
    "    emptyChecker = 0\n",
    "    emptyChecker1 = 0\n",
    "    for i in range(0, lineCount):\n",
    "        for j in range(0, int(allSplits[i][2])):\n",
    "            toggle = False\n",
    "            while toggle == False:\n",
    "                if timetable[emptyChecker][emptyChecker1] == \"empty\":\n",
    "                    timetable[emptyChecker][emptyChecker1] = allSplits[i][0]\n",
    "                    toggle = True\n",
    "                emptyChecker1+=1\n",
    "                if emptyChecker1 == 3:\n",
    "                    emptyChecker+=1\n",
    "                    emptyChecker1=0\n",
    "    \n",
    "    #randomises through randomise function below\n",
    "    randomiser = False\n",
    "    while randomiser == False:\n",
    "        timetable = randomise_timetable(timetable)\n",
    "        randomiser = room_validity(timetable)\n",
    "    \n",
    "    #for i in range(0, len(timetable)):\n",
    "        #print(timetable[i])\n",
    "    #print(timetableJoined)\n",
    "    \n",
    "    return timetable\n"
   ]
  },
  {
   "cell_type": "code",
   "execution_count": 104,
   "id": "27d61b94",
   "metadata": {},
   "outputs": [],
   "source": [
    "def randomise_timetable(timetable):\n",
    "    #Create randomised timetable\n",
    "    #Add all to single list\n",
    "    #Shuffle list\n",
    "    #Put back into timetable\n",
    "    \n",
    "    timetableJoined = []\n",
    "    for list in timetable:\n",
    "        for i in list:\n",
    "            timetableJoined.append(i)\n",
    "    np.random.shuffle(timetableJoined)\n",
    "    for i in range(0,len(timetable)):\n",
    "        for j in range(0,2):\n",
    "            timetable[i][j] = timetableJoined[i]\n",
    "    \n",
    "    return timetable"
   ]
  },
  {
   "cell_type": "code",
   "execution_count": 149,
   "id": "390a191b",
   "metadata": {},
   "outputs": [],
   "source": [
    "def room_validity(timetable):\n",
    "    #Check to see if timetable is valid ie:\n",
    "    #lectures take place in lecture theatre & labs are in labs\n",
    "    #returns true if valid, else false if not\n",
    "    allSplits = []\n",
    "    counter = -1\n",
    "    i = 0\n",
    "    f = open(\"modules.txt\", 'r')\n",
    "    for line in f:\n",
    "        allSplits.append(line.split(\"|\"))\n",
    "        for j in range(0,len(timetable)):\n",
    "            if timetable[j][0] == allSplits[i][0]:\n",
    "                if counter < 0:\n",
    "                    counter = i\n",
    "                elif counter >= 0:\n",
    "                    f.close()\n",
    "                    print(\"invalid timetable\")\n",
    "                    return False\n",
    "            i+=1\n",
    "    f.close()\n",
    "    return True"
   ]
  },
  {
   "cell_type": "code",
   "execution_count": 155,
   "id": "f8426ecd",
   "metadata": {},
   "outputs": [
    {
     "ename": "IndexError",
     "evalue": "list index out of range",
     "output_type": "error",
     "traceback": [
      "\u001b[0;31m---------------------------------------------------------------------------\u001b[0m",
      "\u001b[0;31mIndexError\u001b[0m                                Traceback (most recent call last)",
      "\u001b[0;32m/var/folders/k7/qkg_l5d16vs9bsxgr7k5p5z80000gn/T/ipykernel_7718/246551670.py\u001b[0m in \u001b[0;36m<module>\u001b[0;34m\u001b[0m\n\u001b[1;32m     19\u001b[0m     \"\"\"\n\u001b[1;32m     20\u001b[0m \u001b[0;34m\u001b[0m\u001b[0m\n\u001b[0;32m---> 21\u001b[0;31m \u001b[0mfitness_function\u001b[0m\u001b[0;34m(\u001b[0m\u001b[0;34m)\u001b[0m\u001b[0;34m\u001b[0m\u001b[0;34m\u001b[0m\u001b[0m\n\u001b[0m\u001b[1;32m     22\u001b[0m \u001b[0;34m\u001b[0m\u001b[0m\n",
      "\u001b[0;32m/var/folders/k7/qkg_l5d16vs9bsxgr7k5p5z80000gn/T/ipykernel_7718/246551670.py\u001b[0m in \u001b[0;36mfitness_function\u001b[0;34m()\u001b[0m\n\u001b[1;32m      8\u001b[0m     \u001b[0mprint\u001b[0m\u001b[0;34m(\u001b[0m\u001b[0mallSplits\u001b[0m\u001b[0;34m[\u001b[0m\u001b[0;36m1\u001b[0m\u001b[0;34m]\u001b[0m\u001b[0;34m[\u001b[0m\u001b[0;36m0\u001b[0m\u001b[0;34m]\u001b[0m\u001b[0;34m)\u001b[0m\u001b[0;34m\u001b[0m\u001b[0;34m\u001b[0m\u001b[0m\n\u001b[1;32m      9\u001b[0m     \"\"\"\n\u001b[0;32m---> 10\u001b[0;31m     \u001b[0mtimetable\u001b[0m \u001b[0;34m=\u001b[0m \u001b[0mgenerate_timetable\u001b[0m\u001b[0;34m(\u001b[0m\u001b[0;34m)\u001b[0m\u001b[0;34m\u001b[0m\u001b[0;34m\u001b[0m\u001b[0m\n\u001b[0m\u001b[1;32m     11\u001b[0m     \u001b[0;32mfor\u001b[0m \u001b[0mi\u001b[0m \u001b[0;32min\u001b[0m \u001b[0mrange\u001b[0m\u001b[0;34m(\u001b[0m\u001b[0;36m0\u001b[0m\u001b[0;34m,\u001b[0m \u001b[0mlen\u001b[0m\u001b[0;34m(\u001b[0m\u001b[0mtimetable\u001b[0m\u001b[0;34m)\u001b[0m\u001b[0;34m)\u001b[0m\u001b[0;34m:\u001b[0m\u001b[0;34m\u001b[0m\u001b[0;34m\u001b[0m\u001b[0m\n\u001b[1;32m     12\u001b[0m         \u001b[0mprint\u001b[0m\u001b[0;34m(\u001b[0m\u001b[0mtimetable\u001b[0m\u001b[0;34m[\u001b[0m\u001b[0mi\u001b[0m\u001b[0;34m]\u001b[0m\u001b[0;34m)\u001b[0m\u001b[0;34m\u001b[0m\u001b[0;34m\u001b[0m\u001b[0m\n",
      "\u001b[0;32m/var/folders/k7/qkg_l5d16vs9bsxgr7k5p5z80000gn/T/ipykernel_7718/3242528279.py\u001b[0m in \u001b[0;36mgenerate_timetable\u001b[0;34m()\u001b[0m\n\u001b[1;32m     44\u001b[0m     \u001b[0;32mwhile\u001b[0m \u001b[0mrandomiser\u001b[0m \u001b[0;34m==\u001b[0m \u001b[0;32mFalse\u001b[0m\u001b[0;34m:\u001b[0m\u001b[0;34m\u001b[0m\u001b[0;34m\u001b[0m\u001b[0m\n\u001b[1;32m     45\u001b[0m         \u001b[0mtimetable\u001b[0m \u001b[0;34m=\u001b[0m \u001b[0mrandomise_timetable\u001b[0m\u001b[0;34m(\u001b[0m\u001b[0mtimetable\u001b[0m\u001b[0;34m)\u001b[0m\u001b[0;34m\u001b[0m\u001b[0;34m\u001b[0m\u001b[0m\n\u001b[0;32m---> 46\u001b[0;31m         \u001b[0mrandomiser\u001b[0m \u001b[0;34m=\u001b[0m \u001b[0mroom_validity\u001b[0m\u001b[0;34m(\u001b[0m\u001b[0mtimetable\u001b[0m\u001b[0;34m)\u001b[0m\u001b[0;34m\u001b[0m\u001b[0;34m\u001b[0m\u001b[0m\n\u001b[0m\u001b[1;32m     47\u001b[0m \u001b[0;34m\u001b[0m\u001b[0m\n\u001b[1;32m     48\u001b[0m     \u001b[0;31m#for i in range(0, len(timetable)):\u001b[0m\u001b[0;34m\u001b[0m\u001b[0;34m\u001b[0m\u001b[0m\n",
      "\u001b[0;32m/var/folders/k7/qkg_l5d16vs9bsxgr7k5p5z80000gn/T/ipykernel_7718/776150893.py\u001b[0m in \u001b[0;36mroom_validity\u001b[0;34m(timetable)\u001b[0m\n\u001b[1;32m     10\u001b[0m         \u001b[0mallSplits\u001b[0m\u001b[0;34m.\u001b[0m\u001b[0mappend\u001b[0m\u001b[0;34m(\u001b[0m\u001b[0mline\u001b[0m\u001b[0;34m.\u001b[0m\u001b[0msplit\u001b[0m\u001b[0;34m(\u001b[0m\u001b[0;34m\"|\"\u001b[0m\u001b[0;34m)\u001b[0m\u001b[0;34m)\u001b[0m\u001b[0;34m\u001b[0m\u001b[0;34m\u001b[0m\u001b[0m\n\u001b[1;32m     11\u001b[0m         \u001b[0;32mfor\u001b[0m \u001b[0mlist\u001b[0m \u001b[0;32min\u001b[0m \u001b[0mtimetable\u001b[0m\u001b[0;34m:\u001b[0m\u001b[0;34m\u001b[0m\u001b[0;34m\u001b[0m\u001b[0m\n\u001b[0;32m---> 12\u001b[0;31m             \u001b[0;32mif\u001b[0m \u001b[0mlist\u001b[0m\u001b[0;34m[\u001b[0m\u001b[0;36m0\u001b[0m\u001b[0;34m]\u001b[0m \u001b[0;34m==\u001b[0m \u001b[0mallSplits\u001b[0m\u001b[0;34m[\u001b[0m\u001b[0mi\u001b[0m\u001b[0;34m]\u001b[0m\u001b[0;34m[\u001b[0m\u001b[0;36m0\u001b[0m\u001b[0;34m]\u001b[0m\u001b[0;34m:\u001b[0m\u001b[0;34m\u001b[0m\u001b[0;34m\u001b[0m\u001b[0m\n\u001b[0m\u001b[1;32m     13\u001b[0m                 \u001b[0;32mif\u001b[0m \u001b[0mcounter\u001b[0m \u001b[0;34m<\u001b[0m \u001b[0;36m0\u001b[0m\u001b[0;34m:\u001b[0m\u001b[0;34m\u001b[0m\u001b[0;34m\u001b[0m\u001b[0m\n\u001b[1;32m     14\u001b[0m                     \u001b[0mcounter\u001b[0m \u001b[0;34m=\u001b[0m \u001b[0mi\u001b[0m\u001b[0;34m\u001b[0m\u001b[0;34m\u001b[0m\u001b[0m\n",
      "\u001b[0;31mIndexError\u001b[0m: list index out of range"
     ]
    }
   ],
   "source": [
    "def fitness_function():\n",
    "    \"\"\"\n",
    "    Generate a fitness calculator Spyx\n",
    "    allSplits = []\n",
    "    f = open(\"modules.txt\", 'r')\n",
    "    for line in f:\n",
    "        allSplits.append(line.split(\"|\"))\n",
    "    print(allSplits[1][0])\n",
    "    \"\"\"\n",
    "    timetable = generate_timetable()\n",
    "    for i in range(0, len(timetable)):\n",
    "        print(timetable[i])\n",
    "    \n",
    "    \"\"\"\n",
    "    CONSTRAINTS:\n",
    "    1) ONLY 1 LECTURE AND TWO LABS MAY RUN CONCURRENTLY\n",
    "    2) LABS FOR A MODULE MAY ONLY OCCUR AFTER ITS LECTURE! PRECEDENCE!\n",
    "    3) SESSIONS CAN'T INTERFERE! CONCURRENCE!\n",
    "    \"\"\"\n",
    "    \n",
    "fitness_function()\n",
    "    "
   ]
  }
 ],
 "metadata": {
  "kernelspec": {
   "display_name": "Python 3 (ipykernel)",
   "language": "python",
   "name": "python3"
  },
  "language_info": {
   "codemirror_mode": {
    "name": "ipython",
    "version": 3
   },
   "file_extension": ".py",
   "mimetype": "text/x-python",
   "name": "python",
   "nbconvert_exporter": "python",
   "pygments_lexer": "ipython3",
   "version": "3.9.7"
  }
 },
 "nbformat": 4,
 "nbformat_minor": 5
}
